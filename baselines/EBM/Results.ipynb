{
 "cells": [
  {
   "cell_type": "code",
   "execution_count": 29,
   "metadata": {},
   "outputs": [],
   "source": [
    "import numpy as np\n",
    "import pandas as pd\n",
    "import os\n",
    "import shutil\n",
    "from subprocess import Popen, PIPE\n",
    "from IPython.display import clear_output\n",
    "import time"
   ]
  },
  {
   "cell_type": "code",
   "execution_count": 1,
   "metadata": {},
   "outputs": [],
   "source": [
    "import numpy as np\n",
    "from sklearn.metrics import f1_score"
   ]
  },
  {
   "cell_type": "code",
   "execution_count": 8,
   "metadata": {
    "scrolled": true
   },
   "outputs": [
    {
     "name": "stdout",
     "output_type": "stream",
     "text": [
      "Seed:  1  mise: 3.4852278842257722\n",
      "Seed:  2  mise: 3.5410799455996327\n",
      "Seed:  3  mise: 4.039129383165811\n",
      "Seed:  4  mise: 3.793778609427469\n",
      "Seed:  5  mise: 3.465656028209905\n",
      "Seed:  6  mise: 3.490305656774387\n",
      "Seed:  7  mise: 3.7718835601243903\n",
      "Seed:  8  mise: 3.9229431993584587\n",
      "Seed:  9  mise: 3.80545401127087\n",
      "Seed:  10  mise: 3.609697587719771\n",
      "Seed:  11  mise: 3.960120228357483\n",
      "Seed:  12  mise: 3.8386747873206417\n",
      "Seed:  13  mise: 3.756610718419096\n",
      "Seed:  14  mise: 3.554186100565591\n",
      "Seed:  15  mise: 3.701338035228724\n",
      "Seed:  16  mise: 3.775456810095343\n",
      "Seed:  17  mise: 3.6853571427647256\n",
      "Seed:  18  mise: 3.834772454722091\n",
      "Seed:  19  mise: 3.862577768348252\n",
      "Seed:  20  mise: 3.754860978987213\n",
      "Seed:  21  mise: 3.9243681418394285\n",
      "Seed:  22  mise: 3.684966713800946\n",
      "Seed:  23  mise: 4.10983638640501\n",
      "Seed:  24  mise: 3.696148374339621\n",
      "Seed:  25  mise: 3.8670799695043163\n"
     ]
    }
   ],
   "source": [
    "MISE = []\n",
    "mains = []\n",
    "interactions = []\n",
    "features = []\n",
    "fprs_main = []\n",
    "fnrs_main = []\n",
    "f1s_main = []\n",
    "fprs_interaction = []\n",
    "fnrs_interaction = []\n",
    "f1s_interaction = []\n",
    "f1s_feature = []\n",
    "\n",
    "data = 'large-synthetic-correlated'\n",
    "dist = 'normal'\n",
    "correlation = 0.7 # default value of 0.0 for 'synthetic' data\n",
    "train_size = 10000\n",
    "version = 1\n",
    "for seed in np.arange(100):\n",
    "    filename = f'/home/gridsan/shibal/elaan/results/{data}/{dist}/N_train_{train_size}/seed{seed}/EBM/v{version}'\n",
    "    \n",
    "    try:\n",
    "        with open(filename+'/Results.txt') as file:\n",
    "            lines = file.readlines()\n",
    "            mise = float([line for line in lines if \"True\" in line][0].split(\" \")[-1].split(\"\\n\")[0])\n",
    "            MISE.append(mise)\n",
    "            fpr_main = float([line for line in lines if \"FPR (main)\" in line][0].split(\" \")[-1].split(\"\\n\")[0])\n",
    "            fprs_main.append(fpr_main)\n",
    "            fnr_main = float([line for line in lines if \"FNR (main)\" in line][0].split(\" \")[-1].split(\"\\n\")[0])\n",
    "            fnrs_main.append(fnr_main)\n",
    "            f1_main = float([line for line in lines if \"F1 (main)\" in line][0].split(\" \")[-1].split(\"\\n\")[0])\n",
    "            f1s_main.append(f1_main)\n",
    "            fpr_interaction = float([line for line in lines if \"FPR (interactions)\" in line][0].split(\" \")[-1].split(\"\\n\")[0])\n",
    "            fprs_interaction.append(fpr_interaction)\n",
    "            fnr_interaction = float([line for line in lines if \"FNR (interactions)\" in line][0].split(\" \")[-1].split(\"\\n\")[0])\n",
    "            fnrs_interaction.append(fnr_interaction)\n",
    "            f1_interaction = float([line for line in lines if \"F1 (interactions)\" in line][0].split(\" \")[-1].split(\"\\n\")[0])\n",
    "            f1s_interaction.append(f1_interaction)\n",
    "            print(\"Seed: \", seed, \" mise:\", mise)\n",
    "            \n",
    "        with open(filename+'/support_set.npy', 'rb') as f:\n",
    "            main_set = np.load(f)\n",
    "            interaction_set = np.load(f)\n",
    "            mains.append(main_set)\n",
    "            interactions.append(interaction_set)\n",
    "            feature_set = np.unique(list(main_set)+list(np.unique(interaction_set)))\n",
    "            features.append(feature_set)\n",
    "            if data=='large-synthetic-correlated':\n",
    "                p = 500\n",
    "                k = 10\n",
    "                feature_support_truth = np.zeros(p)\n",
    "                true_support = np.arange((int)(p/(2*k)),p,(int)(p/k))\n",
    "                feature_support_truth[true_support] = 1\n",
    "                feature_support_recovered = np.zeros(p)\n",
    "                feature_support_recovered[feature_set] = 1\n",
    "                f1_feature = f1_score(feature_support_truth, feature_support_recovered)\n",
    "                f1s_feature.append(f1_feature)\n",
    "    except:\n",
    "        pass"
   ]
  },
  {
   "cell_type": "code",
   "execution_count": 9,
   "metadata": {},
   "outputs": [
    {
     "data": {
      "text/plain": [
       "25"
      ]
     },
     "execution_count": 9,
     "metadata": {},
     "output_type": "execute_result"
    }
   ],
   "source": [
    "len(MISE)"
   ]
  },
  {
   "cell_type": "code",
   "execution_count": 10,
   "metadata": {},
   "outputs": [
    {
     "name": "stdout",
     "output_type": "stream",
     "text": [
      "MISE: 3.7572604190629977 std-err: 0.03340873436054321\n",
      "FPR (main): 1.0 std-err: 0.0\n",
      "FNR (main): 0.0 std-err: 0.0\n",
      "F1 (main): 0.0392156862745098 std-err: 0.0\n",
      "FPR (interactions): 0.00040852319186799766 std-err: 3.975296520920859e-05\n",
      "FNR (interactions): 0.455 std-err: 0.01714642819948225\n",
      "F1 (interactions): 0.171963243130746 std-err: 0.020626702375691072\n",
      "F1 (features): 0.0392156862745098 std-err: 0.0\n"
     ]
    }
   ],
   "source": [
    "print(\"MISE:\", np.mean(MISE), \"std-err:\", np.std(MISE)/np.sqrt(len(MISE)))\n",
    "print(\"FPR (main):\", np.mean(fprs_main), \"std-err:\", np.std(fprs_main)/np.sqrt(len(fprs_main)))\n",
    "print(\"FNR (main):\", np.mean(fnrs_main), \"std-err:\", np.std(fnrs_main)/np.sqrt(len(fnrs_main)))\n",
    "print(\"F1 (main):\", np.mean(f1s_main), \"std-err:\", np.std(f1s_main)/np.sqrt(len(f1s_main)))\n",
    "print(\"FPR (interactions):\", np.mean(fprs_interaction), \"std-err:\", np.std(fprs_interaction)/np.sqrt(len(fprs_interaction)))\n",
    "print(\"FNR (interactions):\", np.mean(fnrs_interaction), \"std-err:\", np.std(fnrs_interaction)/np.sqrt(len(fnrs_interaction)))\n",
    "print(\"F1 (interactions):\", np.mean(f1s_interaction), \"std-err:\", np.std(f1s_interaction)/np.sqrt(len(f1s_interaction)))\n",
    "print(\"F1 (features):\", np.mean(f1s_feature), \"std-err:\", np.std(f1s_feature)/np.sqrt(len(f1s_feature)))\n"
   ]
  },
  {
   "cell_type": "code",
   "execution_count": 19,
   "metadata": {},
   "outputs": [
    {
     "data": {
      "text/plain": [
       "(array([  0,   1,   2,   3,   4,   5,   6,   7,   8,   9,  10,  11,  12,\n",
       "         13,  14,  15,  16,  17,  18,  19,  20,  21,  22,  23,  24,  25,\n",
       "         26,  27,  28,  29,  30,  31,  32,  33,  34,  35,  36,  37,  38,\n",
       "         39,  40,  41,  42,  43,  44,  45,  46,  47,  48,  49,  50,  51,\n",
       "         52,  53,  54,  55,  56,  57,  58,  59,  60,  61,  62,  63,  64,\n",
       "         65,  66,  67,  68,  69,  70,  71,  72,  73,  74,  75,  76,  77,\n",
       "         78,  79,  80,  81,  82,  83,  84,  85,  86,  87,  88,  89,  90,\n",
       "         91,  92,  93,  94,  95,  96,  97,  98,  99, 100, 101, 102, 103,\n",
       "        104, 105, 106, 107, 108, 109, 110, 111, 112, 113, 114, 115, 116,\n",
       "        117, 118, 119, 120, 121, 122, 123, 124, 125, 126, 127, 128, 129,\n",
       "        130, 131, 132, 133, 134, 135, 136, 137, 138, 139, 140, 141, 142,\n",
       "        143, 144, 145, 146, 147, 148, 149, 150, 151, 152, 153, 154, 155,\n",
       "        156, 157, 158, 159, 160, 161, 162, 163, 164, 165, 166, 167, 168,\n",
       "        169, 170, 171, 172, 173, 174, 175, 176, 177, 178, 179, 180, 181,\n",
       "        182, 183, 184, 185, 186, 187, 188, 189, 190, 191, 192, 193, 194,\n",
       "        195, 196, 197, 198, 199, 200, 201, 202, 203, 204, 205, 206, 207,\n",
       "        208, 209, 210, 211, 212, 213, 214, 215, 216, 217, 218, 219, 220,\n",
       "        221, 222, 223, 224, 225, 226, 227, 228, 229, 230, 231, 232, 233,\n",
       "        234, 235, 236, 237, 238, 239, 240, 241, 242, 243, 244, 245, 246,\n",
       "        247, 248, 249, 250, 251, 252, 253, 254, 255, 256, 257, 258, 259,\n",
       "        260, 261, 262, 263, 264, 265, 266, 267, 268, 269, 270, 271, 272,\n",
       "        273, 274, 275, 276, 277, 278, 279, 280, 281, 282, 283, 284, 285,\n",
       "        286, 287, 288, 289, 290, 291, 292, 293, 294, 295, 296, 297, 298,\n",
       "        299, 300, 301, 302, 303, 304, 305, 306, 307, 308, 309, 310, 311,\n",
       "        312, 313, 314, 315, 316, 317, 318, 319, 320, 321, 322, 323, 324,\n",
       "        325, 326, 327, 328, 329, 330, 331, 332, 333, 334, 335, 336, 337,\n",
       "        338, 339, 340, 341, 342, 343, 344, 345, 346, 347, 348, 349, 350,\n",
       "        351, 352, 353, 354, 355, 356, 357, 358, 359, 360, 361, 362, 363,\n",
       "        364, 365, 366, 367, 368, 369, 370, 371, 372, 373, 374, 375, 376,\n",
       "        377, 378, 379, 380, 381, 382, 383, 384, 385, 386, 387, 388, 389,\n",
       "        390, 391, 392, 393, 394, 395, 396, 397, 398, 399, 400, 401, 402,\n",
       "        403, 404, 405, 406, 407, 408, 409, 410, 411, 412, 413, 414, 415,\n",
       "        416, 417, 418, 419, 420, 421, 422, 423, 424, 425, 426, 427, 428,\n",
       "        429, 430, 431, 432, 433, 434, 435, 436, 437, 438, 439, 440, 441,\n",
       "        442, 443, 444, 445, 446, 447, 448, 449, 450, 451, 452, 453, 454,\n",
       "        455, 456, 457, 458, 459, 460, 461, 462, 463, 464, 465, 466, 467,\n",
       "        468, 469, 470, 471, 472, 473, 474, 475, 476, 477, 478, 479, 480,\n",
       "        481, 482, 483, 484, 485, 486, 487, 488, 489, 490, 491, 492, 493,\n",
       "        494, 495, 496, 497, 498, 499]),\n",
       " array([25, 25, 25, 25, 25, 25, 25, 25, 25, 25, 25, 25, 25, 25, 25, 25, 25,\n",
       "        25, 25, 25, 25, 25, 25, 25, 25, 25, 25, 25, 25, 25, 25, 25, 25, 25,\n",
       "        25, 25, 25, 25, 25, 25, 25, 25, 25, 25, 25, 25, 25, 25, 25, 25, 25,\n",
       "        25, 25, 25, 25, 25, 25, 25, 25, 25, 25, 25, 25, 25, 25, 25, 25, 25,\n",
       "        25, 25, 25, 25, 25, 25, 25, 25, 25, 25, 25, 25, 25, 25, 25, 25, 25,\n",
       "        25, 25, 25, 25, 25, 25, 25, 25, 25, 25, 25, 25, 25, 25, 25, 25, 25,\n",
       "        25, 25, 25, 25, 25, 25, 25, 25, 25, 25, 25, 25, 25, 25, 25, 25, 25,\n",
       "        25, 25, 25, 25, 25, 25, 25, 25, 25, 25, 25, 25, 25, 25, 25, 25, 25,\n",
       "        25, 25, 25, 25, 25, 25, 25, 25, 25, 25, 25, 25, 25, 25, 25, 25, 25,\n",
       "        25, 25, 25, 25, 25, 25, 25, 25, 25, 25, 25, 25, 25, 25, 25, 25, 25,\n",
       "        25, 25, 25, 25, 25, 25, 25, 25, 25, 25, 25, 25, 25, 25, 25, 25, 25,\n",
       "        25, 25, 25, 25, 25, 25, 25, 25, 25, 25, 25, 25, 25, 25, 25, 25, 25,\n",
       "        25, 25, 25, 25, 25, 25, 25, 25, 25, 25, 25, 25, 25, 25, 25, 25, 25,\n",
       "        25, 25, 25, 25, 25, 25, 25, 25, 25, 25, 25, 25, 25, 25, 25, 25, 25,\n",
       "        25, 25, 25, 25, 25, 25, 25, 25, 25, 25, 25, 25, 25, 25, 25, 25, 25,\n",
       "        25, 25, 25, 25, 25, 25, 25, 25, 25, 25, 25, 25, 25, 25, 25, 25, 25,\n",
       "        25, 25, 25, 25, 25, 25, 25, 25, 25, 25, 25, 25, 25, 25, 25, 25, 25,\n",
       "        25, 25, 25, 25, 25, 25, 25, 25, 25, 25, 25, 25, 25, 25, 25, 25, 25,\n",
       "        25, 25, 25, 25, 25, 25, 25, 25, 25, 25, 25, 25, 25, 25, 25, 25, 25,\n",
       "        25, 25, 25, 25, 25, 25, 25, 25, 25, 25, 25, 25, 25, 25, 25, 25, 25,\n",
       "        25, 25, 25, 25, 25, 25, 25, 25, 25, 25, 25, 25, 25, 25, 25, 25, 25,\n",
       "        25, 25, 25, 25, 25, 25, 25, 25, 25, 25, 25, 25, 25, 25, 25, 25, 25,\n",
       "        25, 25, 25, 25, 25, 25, 25, 25, 25, 25, 25, 25, 25, 25, 25, 25, 25,\n",
       "        25, 25, 25, 25, 25, 25, 25, 25, 25, 25, 25, 25, 25, 25, 25, 25, 25,\n",
       "        25, 25, 25, 25, 25, 25, 25, 25, 25, 25, 25, 25, 25, 25, 25, 25, 25,\n",
       "        25, 25, 25, 25, 25, 25, 25, 25, 25, 25, 25, 25, 25, 25, 25, 25, 25,\n",
       "        25, 25, 25, 25, 25, 25, 25, 25, 25, 25, 25, 25, 25, 25, 25, 25, 25,\n",
       "        25, 25, 25, 25, 25, 25, 25, 25, 25, 25, 25, 25, 25, 25, 25, 25, 25,\n",
       "        25, 25, 25, 25, 25, 25, 25, 25, 25, 25, 25, 25, 25, 25, 25, 25, 25,\n",
       "        25, 25, 25, 25, 25, 25, 25]))"
      ]
     },
     "execution_count": 19,
     "metadata": {},
     "output_type": "execute_result"
    }
   ],
   "source": [
    "# np.unique(np.concatenate(mains).ravel(), return_counts=True)"
   ]
  },
  {
   "cell_type": "code",
   "execution_count": 12,
   "metadata": {},
   "outputs": [
    {
     "data": {
      "text/plain": [
       "(array([[  0,  45],\n",
       "        [  0, 156],\n",
       "        [  0, 279],\n",
       "        ...,\n",
       "        [472, 492],\n",
       "        [473, 476],\n",
       "        [475, 483]]),\n",
       " array([ 1,  1,  1,  1,  1,  1,  1,  1,  1,  1,  1,  1,  1,  1,  1,  1,  1,\n",
       "         1,  1,  1,  1,  1,  1,  1,  1,  1,  1,  1,  1,  1,  1,  1,  1,  1,\n",
       "         1,  1,  1,  1,  1,  1,  1,  1,  1,  1,  1,  1,  1,  1,  1,  1,  1,\n",
       "         1,  1,  1,  1,  1, 14,  1,  1,  1,  1,  1,  1, 12, 19,  9,  1,  1,\n",
       "         1,  2, 11,  1,  1,  1,  1,  4,  1,  1,  1,  1,  1,  1,  1,  1,  1,\n",
       "         1,  1,  1,  1,  1,  1,  1,  1,  1,  1,  1,  1,  1,  1,  1,  1,  1,\n",
       "         1,  1,  1,  1,  1,  1,  1,  1,  1,  1,  1,  1,  1,  1,  1,  1,  1,\n",
       "         1,  1,  1,  1,  1,  1,  1,  1,  1,  1,  1,  1,  1,  1,  1,  1,  1,\n",
       "         1,  1,  1,  1,  1,  1,  1,  1,  1,  1,  1,  1,  1,  1,  1,  1,  1,\n",
       "         1,  1,  1,  1,  1,  1,  1,  1,  1,  1,  1,  1,  1,  1,  1,  1,  1,\n",
       "         1,  1,  1,  1,  1,  1,  1,  1,  1,  1,  1,  1,  1,  1,  1,  1,  1,\n",
       "         1,  1,  1,  1,  1,  1,  1,  1,  1,  1,  1,  1,  1,  1,  1,  1,  1,\n",
       "         1,  1,  1,  1,  1,  1,  1,  1,  1,  1,  1,  1,  1,  1,  1,  1,  1,\n",
       "         1,  1,  1,  1,  1,  1,  1,  1,  1,  1,  1,  1,  1,  1,  1,  1,  1,\n",
       "         1,  1,  1,  1,  1,  1,  1,  1,  1,  3,  1,  1,  1,  1, 14,  1,  1,\n",
       "         1,  1,  1,  1,  1,  1,  1,  1,  1,  1,  1,  1,  1,  1,  1,  1,  1,\n",
       "         1,  1,  1,  1,  1,  1,  1,  1,  1,  1,  1,  1,  1,  1,  1,  1,  1,\n",
       "         1,  1,  1,  1,  1,  1,  1,  1,  1,  1,  1,  1,  1,  1,  1,  1,  1,\n",
       "         1,  1,  1,  1,  1,  1,  1,  1,  1,  1,  1,  1,  1,  1,  1,  1,  1,\n",
       "         1,  1,  1,  1,  1,  1,  1,  1,  1,  1,  1,  1,  1,  1,  1,  1,  1,\n",
       "         1,  1,  1,  1,  1,  1,  1,  1,  1,  1,  1,  1,  1,  1,  1,  1,  1,\n",
       "         1,  1,  1,  1,  1,  1,  1,  1,  1,  1,  1,  1,  1,  1,  1,  1,  1,\n",
       "         1,  1,  1,  1,  1,  1,  1,  1,  1,  1,  1,  1,  1,  1,  1,  1,  1,\n",
       "         1,  1,  1,  1,  1,  1,  1,  1,  1,  1,  1,  1,  1,  1,  1,  1,  1,\n",
       "         1,  1,  1,  1,  1,  1,  1,  1,  1,  1,  1,  1,  1,  1,  1,  1,  1,\n",
       "         1,  1,  1,  1,  1,  1,  1,  1,  1,  1,  1,  1,  1,  1,  1,  1,  1,\n",
       "         1,  1,  1,  1,  1,  1,  1,  1,  1,  1,  1,  1,  1,  1,  1,  1,  1,\n",
       "         1,  1,  1,  1,  1,  1,  1,  1,  1,  1,  1,  1,  1,  1,  1,  1,  1,\n",
       "         1,  1,  1,  1,  1,  1,  1,  1,  1,  1,  1,  1,  1,  1,  1,  1,  1,\n",
       "         1,  1,  1,  1,  1,  1,  1,  1,  1,  1,  1,  1,  1,  1,  1,  1,  1,\n",
       "         1,  1,  1,  1,  1,  1,  1,  1,  1,  1,  1,  1,  1,  1,  1,  1,  1,\n",
       "         1, 11,  2,  1,  1,  1,  1,  1,  1,  1,  1,  1,  1,  1,  1,  1,  1,\n",
       "         1,  1,  1,  1,  1,  1,  1,  1]))"
      ]
     },
     "execution_count": 12,
     "metadata": {},
     "output_type": "execute_result"
    }
   ],
   "source": [
    "# interactions = [inter for inter in interactions if len(inter)>0]\n",
    "# np.unique(np.concatenate(interactions, axis=0), return_counts=True, axis=0)"
   ]
  }
 ],
 "metadata": {
  "kernelspec": {
   "display_name": "Python [conda env:.conda-MOETF29]",
   "language": "python",
   "name": "conda-env-.conda-MOETF29-py"
  },
  "language_info": {
   "codemirror_mode": {
    "name": "ipython",
    "version": 3
   },
   "file_extension": ".py",
   "mimetype": "text/x-python",
   "name": "python",
   "nbconvert_exporter": "python",
   "pygments_lexer": "ipython3",
   "version": "3.10.11"
  },
  "latex_envs": {
   "LaTeX_envs_menu_present": true,
   "autoclose": false,
   "autocomplete": true,
   "bibliofile": "biblio.bib",
   "cite_by": "apalike",
   "current_citInitial": 1,
   "eqLabelWithNumbers": true,
   "eqNumInitial": 1,
   "hotkeys": {
    "equation": "Ctrl-E",
    "itemize": "Ctrl-I"
   },
   "labels_anchors": false,
   "latex_user_defs": false,
   "report_style_numbering": false,
   "user_envs_cfg": false
  },
  "toc": {
   "base_numbering": 1,
   "nav_menu": {},
   "number_sections": true,
   "sideBar": true,
   "skip_h1_title": false,
   "title_cell": "Table of Contents",
   "title_sidebar": "Contents",
   "toc_cell": false,
   "toc_position": {},
   "toc_section_display": true,
   "toc_window_display": false
  },
  "varInspector": {
   "cols": {
    "lenName": 16,
    "lenType": 16,
    "lenVar": 40
   },
   "kernels_config": {
    "python": {
     "delete_cmd_postfix": "",
     "delete_cmd_prefix": "del ",
     "library": "var_list.py",
     "varRefreshCmd": "print(var_dic_list())"
    },
    "r": {
     "delete_cmd_postfix": ") ",
     "delete_cmd_prefix": "rm(",
     "library": "var_list.r",
     "varRefreshCmd": "cat(var_dic_list()) "
    }
   },
   "types_to_exclude": [
    "module",
    "function",
    "builtin_function_or_method",
    "instance",
    "_Feature"
   ],
   "window_display": false
  }
 },
 "nbformat": 4,
 "nbformat_minor": 5
}

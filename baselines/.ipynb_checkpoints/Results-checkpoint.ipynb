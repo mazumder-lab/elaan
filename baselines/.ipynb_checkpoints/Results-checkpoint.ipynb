{
 "cells": [
  {
   "cell_type": "code",
   "execution_count": 23,
   "metadata": {},
   "outputs": [],
   "source": [
    "import numpy as np\n",
    "import pandas as pd\n",
    "import os\n",
    "import shutil\n",
    "from subprocess import Popen, PIPE\n",
    "from IPython.display import clear_output\n",
    "import time"
   ]
  },
  {
   "cell_type": "code",
   "execution_count": 1,
   "metadata": {},
   "outputs": [],
   "source": [
    "import numpy as np\n",
    "from sklearn.metrics import f1_score"
   ]
  },
  {
   "cell_type": "code",
   "execution_count": 14,
   "metadata": {
    "scrolled": true
   },
   "outputs": [
    {
     "name": "stdout",
     "output_type": "stream",
     "text": [
      "Seed:  1  mise: 0.5400736245276541\n",
      "Seed:  2  mise: 0.663077159000078\n",
      "Seed:  3  mise: 0.6075700569291931\n",
      "Seed:  4  mise: 0.7385888464565864\n",
      "Seed:  5  mise: 0.8071383960085324\n",
      "Seed:  6  mise: 0.6078294741451972\n",
      "Seed:  7  mise: 0.33406012779646893\n",
      "Seed:  8  mise: 0.9816727509851935\n",
      "Seed:  9  mise: 1.6447809376848046\n",
      "Seed:  10  mise: 0.6062983643218273\n",
      "Seed:  11  mise: 0.8776489330391428\n",
      "Seed:  12  mise: 1.7321558274339772\n",
      "Seed:  13  mise: 1.5134153708098823\n",
      "Seed:  14  mise: 0.8241882386678413\n",
      "Seed:  15  mise: 0.5520896504353173\n",
      "Seed:  16  mise: 0.5514660293131296\n",
      "Seed:  17  mise: 0.5505525525326276\n",
      "Seed:  18  mise: 0.6116951574954889\n",
      "Seed:  19  mise: 0.7342125316827941\n",
      "Seed:  20  mise: 0.7492216996236098\n",
      "Seed:  21  mise: 0.6653008543590635\n",
      "Seed:  22  mise: 0.5702122342326345\n",
      "Seed:  23  mise: 0.7131438794938829\n",
      "Seed:  24  mise: 0.9971911254709259\n",
      "Seed:  25  mise: 0.42117134473782464\n"
     ]
    }
   ],
   "source": [
    "MISE = []\n",
    "mains = []\n",
    "interactions = []\n",
    "features = []\n",
    "fprs_main = []\n",
    "fnrs_main = []\n",
    "f1s_main = []\n",
    "fprs_interaction = []\n",
    "fnrs_interaction = []\n",
    "f1s_interaction = []\n",
    "f1s_feature = []\n",
    "\n",
    "data = 'large-synthetic-correlated'\n",
    "dist = 'normal' \n",
    "correlation = 0.7 # correlation is 0.0 as default for 'synthetic' data\n",
    "train_size = 10000\n",
    "version = 1\n",
    "for seed in np.arange(100):\n",
    "    filename = f'/home/gridsan/shibal/elaan/GamiNet/examples/results/{data}/{dist}/{correlation}/N_train_{train_size}/seed{seed}/GamiNet/v{version}'\n",
    "    \n",
    "    try:\n",
    "        with open(filename+'/Results.txt') as file:\n",
    "            lines = file.readlines()\n",
    "            mise = float([line for line in lines if \"True\" in line][0].split(\" \")[-1].split(\"\\n\")[0])\n",
    "            MISE.append(mise)\n",
    "            fpr_main = float([line for line in lines if \"FPR (main)\" in line][0].split(\" \")[-1].split(\"\\n\")[0])\n",
    "            fprs_main.append(fpr_main)\n",
    "            fnr_main = float([line for line in lines if \"FNR (main)\" in line][0].split(\" \")[-1].split(\"\\n\")[0])\n",
    "            fnrs_main.append(fnr_main)\n",
    "            f1_main = float([line for line in lines if \"F1 (main)\" in line][0].split(\" \")[-1].split(\"\\n\")[0])\n",
    "            f1s_main.append(f1_main)\n",
    "            fpr_interaction = float([line for line in lines if \"FPR (interactions)\" in line][0].split(\" \")[-1].split(\"\\n\")[0])\n",
    "            fprs_interaction.append(fpr_interaction)\n",
    "            fnr_interaction = float([line for line in lines if \"FNR (interactions)\" in line][0].split(\" \")[-1].split(\"\\n\")[0])\n",
    "            fnrs_interaction.append(fnr_interaction)\n",
    "            f1_interaction = float([line for line in lines if \"F1 (interactions)\" in line][0].split(\" \")[-1].split(\"\\n\")[0])\n",
    "            f1s_interaction.append(f1_interaction)\n",
    "            print(\"Seed: \", seed, \" mise:\", mise)\n",
    "            \n",
    "        with open(filename+'/support_set.npy', 'rb') as f:\n",
    "            main_set = np.load(f)\n",
    "            interaction_set = np.load(f)\n",
    "            mains.append(main_set)\n",
    "            interactions.append(interaction_set)\n",
    "            feature_set = np.unique(list(main_set)+list(np.unique(interaction_set)))\n",
    "            features.append(feature_set)\n",
    "            if data=='large-synthetic-correlated':\n",
    "                p = 500\n",
    "                k = 10\n",
    "                feature_support_truth = np.zeros(p)\n",
    "                true_support = np.arange((int)(p/(2*k)),p,(int)(p/k))\n",
    "                feature_support_truth[true_support] = 1\n",
    "                feature_support_recovered = np.zeros(p)\n",
    "                feature_support_recovered[feature_set] = 1\n",
    "                f1_feature = f1_score(feature_support_truth, feature_support_recovered)\n",
    "                f1s_feature.append(f1_feature)\n",
    "    except:\n",
    "        pass"
   ]
  },
  {
   "cell_type": "code",
   "execution_count": 15,
   "metadata": {},
   "outputs": [
    {
     "data": {
      "text/plain": [
       "25"
      ]
     },
     "execution_count": 15,
     "metadata": {},
     "output_type": "execute_result"
    }
   ],
   "source": [
    "len(MISE)"
   ]
  },
  {
   "cell_type": "code",
   "execution_count": 16,
   "metadata": {},
   "outputs": [
    {
     "name": "stdout",
     "output_type": "stream",
     "text": [
      "MISE: 0.783790206687347 std-err: 0.06965050861347348\n",
      "FPR (main): 0.002857142857142865 std-err: 0.0012052916783864005\n",
      "FNR (main): 0.0 std-err: 0.0\n",
      "F1 (main): 0.948031968031968 std-err: 0.019718907229808645\n",
      "FPR (interactions): 0.000126982091035881 std-err: 2.4637516186264205e-05\n",
      "FNR (interactions): 0.815 std-err: 0.022494443758403985\n",
      "F1 (interactions): 0.14867127254513382 std-err: 0.026659592703803896\n",
      "F1 (features): 0.6241795586765693 std-err: 0.04183489128431467\n"
     ]
    }
   ],
   "source": [
    "print(\"MISE:\", np.mean(MISE), \"std-err:\", np.std(MISE)/np.sqrt(len(MISE)))\n",
    "print(\"FPR (main):\", np.mean(fprs_main), \"std-err:\", np.std(fprs_main)/np.sqrt(len(fprs_main)))\n",
    "print(\"FNR (main):\", np.mean(fnrs_main), \"std-err:\", np.std(fnrs_main)/np.sqrt(len(fnrs_main)))\n",
    "print(\"F1 (main):\", np.mean(f1s_main), \"std-err:\", np.std(f1s_main)/np.sqrt(len(f1s_main)))\n",
    "print(\"FPR (interactions):\", np.mean(fprs_interaction), \"std-err:\", np.std(fprs_interaction)/np.sqrt(len(fprs_interaction)))\n",
    "print(\"FNR (interactions):\", np.mean(fnrs_interaction), \"std-err:\", np.std(fnrs_interaction)/np.sqrt(len(fnrs_interaction)))\n",
    "print(\"F1 (interactions):\", np.mean(f1s_interaction), \"std-err:\", np.std(f1s_interaction)/np.sqrt(len(f1s_interaction)))\n",
    "print(\"F1 (features):\", np.mean(f1s_feature), \"std-err:\", np.std(f1s_feature)/np.sqrt(len(f1s_feature)))\n"
   ]
  },
  {
   "cell_type": "code",
   "execution_count": 85,
   "metadata": {},
   "outputs": [
    {
     "data": {
      "text/plain": [
       "[array([175, 475,  75, 375, 275, 425,  25, 225, 125, 325, 196,  26]),\n",
       " array([175, 475, 375,  75, 125, 275,  25, 225, 425, 325, 126, 289]),\n",
       " array([175, 475,  75, 375, 125, 275,  25, 425, 325, 225, 354]),\n",
       " array([175, 475, 275,  25, 375, 225, 125,  75, 425, 325]),\n",
       " array([175, 475, 375,  25, 275,  75, 225, 325, 125, 425, 424,  81, 187,\n",
       "        488, 258, 295, 231, 473, 176,  86, 469, 340,  44, 314, 472,  55]),\n",
       " array([175, 475, 375,  75,  25, 275, 225, 125, 425, 325, 250, 297, 457,\n",
       "        426, 479, 437, 224, 365, 419]),\n",
       " array([175, 475, 375,  75, 125, 275,  25, 225, 425, 325]),\n",
       " array([175, 475, 275,  75,  25, 125, 375, 425, 225, 325]),\n",
       " array([175, 475, 375, 275,  75, 425,  25, 125, 225, 325, 305]),\n",
       " array([175, 475, 375, 275,  75, 425,  25, 225, 125, 325, 439, 326, 220,\n",
       "         58, 493,  73]),\n",
       " array([175, 475,  75, 275, 125, 375, 425,  25, 325, 225, 419, 169, 457,\n",
       "        478]),\n",
       " array([175, 475, 375, 275,  75, 125,  25, 225, 425, 325]),\n",
       " array([475, 175,  75, 275, 375,  25, 225, 425, 125, 325]),\n",
       " array([175, 475,  25, 275, 375,  75, 125, 425, 225, 325, 135, 165, 185,\n",
       "        195]),\n",
       " array([175, 475, 375, 275,  75, 225, 125,  25, 325, 425, 127, 318, 276,\n",
       "        176]),\n",
       " array([175, 475, 375,  25, 125, 275, 225, 325,  75, 425, 367, 365, 142,\n",
       "        274, 427, 224, 450, 473, 455,  86, 242, 199, 151, 176, 408, 486,\n",
       "        421, 268, 196]),\n",
       " array([175, 475, 375,  25,  75, 275, 225, 325, 125, 425]),\n",
       " array([175, 475, 375,  75,  25, 225, 125, 275, 325, 425, 406]),\n",
       " array([175, 475, 375,  75, 275,  25, 125, 225, 425, 325, 124]),\n",
       " array([175, 475, 375,  75, 275,  25, 125, 225, 325, 425]),\n",
       " array([175, 475,  75, 275,  25, 375, 225, 325, 425, 125, 114]),\n",
       " array([175, 475,  75, 375, 125,  25, 275, 425, 225, 325]),\n",
       " array([175, 475, 275, 375,  25,  75, 225, 325, 125, 425]),\n",
       " array([175, 475, 375, 275,  75,  25, 125, 225, 325, 425, 477,  53, 220]),\n",
       " array([175, 475, 375, 125,  75,  25, 225, 275, 425, 325, 191, 276,  26])]"
      ]
     },
     "execution_count": 85,
     "metadata": {},
     "output_type": "execute_result"
    }
   ],
   "source": [
    "# mains"
   ]
  },
  {
   "cell_type": "code",
   "execution_count": 86,
   "metadata": {},
   "outputs": [
    {
     "data": {
      "text/plain": [
       "(array([ 25,  26,  44,  53,  55,  58,  73,  75,  81,  86, 114, 124, 125,\n",
       "        126, 127, 135, 142, 151, 165, 169, 175, 176, 185, 187, 191, 195,\n",
       "        196, 199, 220, 224, 225, 231, 242, 250, 258, 268, 274, 275, 276,\n",
       "        289, 295, 297, 305, 314, 318, 325, 326, 340, 354, 365, 367, 375,\n",
       "        406, 408, 419, 421, 424, 425, 426, 427, 437, 439, 450, 455, 457,\n",
       "        469, 472, 473, 475, 477, 478, 479, 486, 488, 493]),\n",
       " array([25,  2,  1,  1,  1,  1,  1, 25,  1,  2,  1,  1, 25,  1,  1,  1,  1,\n",
       "         1,  1,  1, 25,  3,  1,  1,  1,  1,  2,  1,  2,  2, 25,  1,  1,  1,\n",
       "         1,  1,  1, 25,  2,  1,  1,  1,  1,  1,  1, 25,  1,  1,  1,  2,  1,\n",
       "        25,  1,  1,  2,  1,  1, 25,  1,  1,  1,  1,  1,  1,  2,  1,  1,  2,\n",
       "        25,  1,  1,  1,  1,  1,  1]))"
      ]
     },
     "execution_count": 86,
     "metadata": {},
     "output_type": "execute_result"
    }
   ],
   "source": [
    "# np.unique(np.concatenate(mains).ravel(), return_counts=True)"
   ]
  },
  {
   "cell_type": "code",
   "execution_count": 18,
   "metadata": {},
   "outputs": [
    {
     "data": {
      "text/plain": [
       "(array([[0, 1],\n",
       "        [0, 2],\n",
       "        [0, 3],\n",
       "        [0, 5],\n",
       "        [0, 7],\n",
       "        [0, 8],\n",
       "        [1, 2],\n",
       "        [1, 3],\n",
       "        [1, 4],\n",
       "        [1, 5],\n",
       "        [1, 6],\n",
       "        [1, 7],\n",
       "        [1, 8],\n",
       "        [1, 9],\n",
       "        [2, 3],\n",
       "        [2, 5],\n",
       "        [2, 6],\n",
       "        [2, 7],\n",
       "        [2, 8],\n",
       "        [2, 9],\n",
       "        [3, 4],\n",
       "        [3, 5],\n",
       "        [3, 7],\n",
       "        [3, 9],\n",
       "        [4, 5],\n",
       "        [4, 6],\n",
       "        [4, 7],\n",
       "        [4, 8],\n",
       "        [4, 9],\n",
       "        [5, 6],\n",
       "        [5, 7],\n",
       "        [5, 8],\n",
       "        [5, 9],\n",
       "        [6, 7],\n",
       "        [6, 9],\n",
       "        [7, 8],\n",
       "        [7, 9],\n",
       "        [8, 9]]),\n",
       " array([17, 17,  1,  1,  2,  1,  4,  3,  2,  5,  4,  7,  2,  3,  7,  3,  4,\n",
       "         3,  1,  2,  2,  1,  2,  1,  1,  1,  2,  1,  1,  1,  1,  1,  1,  2,\n",
       "         1,  1,  1,  1]))"
      ]
     },
     "execution_count": 18,
     "metadata": {},
     "output_type": "execute_result"
    }
   ],
   "source": [
    "# interactions = [inter for inter in interactions if len(inter)>0]\n",
    "# np.unique(np.concatenate(interactions, axis=0), return_counts=True, axis=0)"
   ]
  }
 ],
 "metadata": {
  "kernelspec": {
   "display_name": "Python 3",
   "language": "python",
   "name": "python3"
  },
  "language_info": {
   "codemirror_mode": {
    "name": "ipython",
    "version": 3
   },
   "file_extension": ".py",
   "mimetype": "text/x-python",
   "name": "python",
   "nbconvert_exporter": "python",
   "pygments_lexer": "ipython3",
   "version": "3.6.12"
  },
  "latex_envs": {
   "LaTeX_envs_menu_present": true,
   "autoclose": false,
   "autocomplete": true,
   "bibliofile": "biblio.bib",
   "cite_by": "apalike",
   "current_citInitial": 1,
   "eqLabelWithNumbers": true,
   "eqNumInitial": 1,
   "hotkeys": {
    "equation": "Ctrl-E",
    "itemize": "Ctrl-I"
   },
   "labels_anchors": false,
   "latex_user_defs": false,
   "report_style_numbering": false,
   "user_envs_cfg": false
  },
  "toc": {
   "base_numbering": 1,
   "nav_menu": {},
   "number_sections": true,
   "sideBar": true,
   "skip_h1_title": false,
   "title_cell": "Table of Contents",
   "title_sidebar": "Contents",
   "toc_cell": false,
   "toc_position": {},
   "toc_section_display": true,
   "toc_window_display": false
  },
  "varInspector": {
   "cols": {
    "lenName": 16,
    "lenType": 16,
    "lenVar": 40
   },
   "kernels_config": {
    "python": {
     "delete_cmd_postfix": "",
     "delete_cmd_prefix": "del ",
     "library": "var_list.py",
     "varRefreshCmd": "print(var_dic_list())"
    },
    "r": {
     "delete_cmd_postfix": ") ",
     "delete_cmd_prefix": "rm(",
     "library": "var_list.r",
     "varRefreshCmd": "cat(var_dic_list()) "
    }
   },
   "types_to_exclude": [
    "module",
    "function",
    "builtin_function_or_method",
    "instance",
    "_Feature"
   ],
   "window_display": false
  }
 },
 "nbformat": 4,
 "nbformat_minor": 5
}

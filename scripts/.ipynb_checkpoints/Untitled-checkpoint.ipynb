{
 "cells": [
  {
   "cell_type": "code",
   "execution_count": 3,
   "id": "507cb648",
   "metadata": {},
   "outputs": [],
   "source": [
    "command = \"\"\"/home/gridsan/shibal/.conda/envs/baselines/bin/python /home/gridsan/shibal/elaan/baselines/GamiNet/examples/gaminet_synthetic.py  --dist 'normal' --seed 1 --dataset 'synthetic' --correlation 0.5 --train_size 100 --version 1\"\"\"\n"
   ]
  },
  {
   "cell_type": "code",
   "execution_count": 4,
   "id": "d62df284",
   "metadata": {},
   "outputs": [
    {
     "name": "stdout",
     "output_type": "stream",
     "text": [
      "3.10.11 (main, Apr 20 2023, 19:02:41) [GCC 11.2.0] linux /home/gridsan/shibal/.conda/envs/additive2/bin/python\n",
      "2024-02-10 03:27:27.628962: I tensorflow/core/platform/cpu_feature_guard.cc:193] This TensorFlow binary is optimized with oneAPI Deep Neural Network Library (oneDNN) to use the following CPU instructions in performance-critical operations:  SSE4.1 SSE4.2 AVX AVX2 AVX512F AVX512_VNNI FMA\n",
      "To enable them in other operations, rebuild TensorFlow with the appropriate compiler flags.\n",
      "Number of training samples: 57598\n",
      "Number of validation samples: 7199\n",
      "Number of test samples: 7199\n",
      "Number of covariates: 295\n",
      "2024-02-10 03:27:41.494445: I tensorflow/core/platform/cpu_feature_guard.cc:193] This TensorFlow binary is optimized with oneAPI Deep Neural Network Library (oneDNN) to use the following CPU instructions in performance-critical operations:  SSE4.1 SSE4.2 AVX AVX2 AVX512F AVX512_VNNI FMA\n",
      "To enable them in other operations, rebuild TensorFlow with the appropriate compiler flags.\n",
      "2024-02-10 03:27:41.702139: I tensorflow/core/common_runtime/process_util.cc:146] Creating new thread pool with default inter op setting: 2. Tune using inter_op_parallelism_threads for best performance.\n",
      "[    0     1     2 ... 57595 57596 57597]\n",
      "[57598 57599 57600 ... 64794 64795 64796]\n",
      "####################GAMI-Net training start.####################\n",
      "##########Stage 1: main effect training start.##########\n",
      "Main effects training epoch: 1, train loss: 335.77472, val loss: 330.79691\n",
      "^C\n"
     ]
    }
   ],
   "source": [
    "!{command}"
   ]
  },
  {
   "cell_type": "code",
   "execution_count": 43,
   "id": "86e5dc7b",
   "metadata": {},
   "outputs": [],
   "source": [
    "command = \"\"\"/home/gridsan/shibal/.conda/envs/EBM/bin/python /home/gridsan/shibal/elaan/baselines/EBM/ebm_synthetic.py  --dist 'normal' --seed 1 --dataset 'synthetic' --correlation 0.5 --train_size 100 --version 1 \"\"\"\n"
   ]
  },
  {
   "cell_type": "code",
   "execution_count": 44,
   "id": "a6c5f3eb",
   "metadata": {},
   "outputs": [
    {
     "name": "stdout",
     "output_type": "stream",
     "text": [
      "3.11.4 | packaged by conda-forge | (main, Jun 10 2023, 18:08:17) [GCC 12.2.0] linux /home/gridsan/shibal/.conda/envs/EBM/bin/python\n",
      "===================FOLD: 0 ================\n",
      "\u001b[32m[I 2024-02-10 10:59:43,182]\u001b[0m A new study created in memory with name: no-name-5c169082-29b4-4d3b-bb08-c1ca54a1d6d7\u001b[0m\n",
      "Train: MSE: 1.2536109119609844e-30\n",
      "Val: MSE: 0.5760261642941736\n",
      "\u001b[32m[I 2024-02-10 11:00:03,742]\u001b[0m Trial 0 finished with value: 0.5760261642941736 and parameters: {'num_of_interactions': 25}. Best is trial 0 with value: 0.5760261642941736.\u001b[0m\n",
      "Train: MSE: 1.6285047312156263e-30\n",
      "Val: MSE: 0.5760261642941041\n",
      "\u001b[32m[I 2024-02-10 11:00:30,101]\u001b[0m Trial 1 finished with value: 0.5760261642941041 and parameters: {'num_of_interactions': 33}. Best is trial 1 with value: 0.5760261642941041.\u001b[0m\n",
      "Number of finished trials: 2\n",
      "Best trial:\n",
      "  Value: 0.5760261642941041\n",
      "  Params: \n",
      "    num_of_interactions: 33\n",
      "Training completed in 00:00:46.92\n",
      "===================FOLD: 1 ================\n",
      "\u001b[32m[I 2024-02-10 11:00:30,135]\u001b[0m A new study created in memory with name: no-name-b59bea0f-7465-4069-93f6-ff636da71b23\u001b[0m\n",
      "Train: MSE: 1.9323394392421567e-30\n",
      "Val: MSE: 0.5020193753529592\n",
      "\u001b[32m[I 2024-02-10 11:00:52,714]\u001b[0m Trial 0 finished with value: 0.5020193753529592 and parameters: {'num_of_interactions': 25}. Best is trial 0 with value: 0.5020193753529592.\u001b[0m\n",
      "Train: MSE: 1.4277920161313662e-30\n",
      "Val: MSE: 0.5020193753530092\n",
      "\u001b[32m[I 2024-02-10 11:01:17,403]\u001b[0m Trial 1 finished with value: 0.5020193753530092 and parameters: {'num_of_interactions': 33}. Best is trial 0 with value: 0.5020193753529592.\u001b[0m\n",
      "Number of finished trials: 2\n",
      "Best trial:\n",
      "  Value: 0.5020193753529592\n",
      "  Params: \n",
      "    num_of_interactions: 25\n",
      "Training completed in 00:00:47.27\n",
      "0\n",
      "                               val-0\n",
      "params_num_of_interactions          \n",
      "25                          0.576026\n",
      "33                          0.576026\n",
      "1\n",
      "                               val-0     val-1\n",
      "params_num_of_interactions                    \n",
      "25                          0.576026  0.502019\n",
      "33                          0.576026  0.502019\n",
      "   params_num_of_interactions         0\n",
      "0                          33  0.539023\n",
      "num_of_interactions_opt: 33\n",
      "['feature_0000', 'feature_0001', 'feature_0002', 'feature_0003', 'feature_0004', 'feature_0005', 'feature_0006', 'feature_0007', 'feature_0008', 'feature_0009', 'feature_0000 & feature_0001', 'feature_0000 & feature_0002', 'feature_0000 & feature_0003', 'feature_0000 & feature_0005', 'feature_0000 & feature_0007', 'feature_0000 & feature_0009', 'feature_0001 & feature_0002', 'feature_0001 & feature_0003', 'feature_0001 & feature_0005', 'feature_0001 & feature_0007', 'feature_0001 & feature_0008', 'feature_0001 & feature_0009', 'feature_0002 & feature_0005', 'feature_0002 & feature_0006', 'feature_0002 & feature_0007', 'feature_0002 & feature_0008', 'feature_0002 & feature_0009', 'feature_0003 & feature_0004', 'feature_0003 & feature_0006', 'feature_0003 & feature_0007', 'feature_0003 & feature_0009', 'feature_0004 & feature_0005', 'feature_0004 & feature_0007', 'feature_0004 & feature_0009', 'feature_0005 & feature_0006', 'feature_0005 & feature_0007', 'feature_0005 & feature_0008', 'feature_0005 & feature_0009', 'feature_0006 & feature_0007', 'feature_0006 & feature_0008', 'feature_0006 & feature_0009', 'feature_0007 & feature_0008', 'feature_0007 & feature_0009']\n",
      "main_support_true: [1 1 1 1 0 0 0 0 0 0]\n",
      "main_support_recovered: [1 1 1 1 1 1 1 1 1 1]\n",
      "interaction_support_true: [1. 1. 0. 0. 0. 0. 0. 0. 0. 0. 0. 0. 0. 0. 0. 0. 0. 1. 0. 0. 0. 0. 0. 0.\n",
      " 0. 0. 0. 0. 0. 0. 0. 0. 0. 0. 0. 0. 0. 0. 0. 0. 0. 0. 0. 0. 0.]\n",
      "interaction_support_recovered: [1. 1. 1. 0. 1. 0. 1. 0. 1. 1. 1. 0. 1. 0. 1. 1. 1. 0. 0. 1. 1. 1. 1. 1.\n",
      " 1. 0. 1. 1. 0. 1. 1. 0. 1. 0. 1. 1. 1. 1. 1. 1. 1. 1. 1. 1. 0.]\n"
     ]
    }
   ],
   "source": [
    "!{command}"
   ]
  },
  {
   "cell_type": "code",
   "execution_count": null,
   "id": "9d1e13a6",
   "metadata": {},
   "outputs": [],
   "source": []
  }
 ],
 "metadata": {
  "kernelspec": {
   "display_name": "Python [conda env:.conda-additive2]",
   "language": "python",
   "name": "conda-env-.conda-additive2-py"
  },
  "language_info": {
   "codemirror_mode": {
    "name": "ipython",
    "version": 3
   },
   "file_extension": ".py",
   "mimetype": "text/x-python",
   "name": "python",
   "nbconvert_exporter": "python",
   "pygments_lexer": "ipython3",
   "version": "3.10.11"
  },
  "toc": {
   "base_numbering": 1,
   "nav_menu": {},
   "number_sections": true,
   "sideBar": true,
   "skip_h1_title": false,
   "title_cell": "Table of Contents",
   "title_sidebar": "Contents",
   "toc_cell": false,
   "toc_position": {},
   "toc_section_display": true,
   "toc_window_display": false
  }
 },
 "nbformat": 4,
 "nbformat_minor": 5
}

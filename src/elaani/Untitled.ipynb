{
 "cells": [
  {
   "cell_type": "code",
   "execution_count": 14,
   "id": "22b3bda0",
   "metadata": {},
   "outputs": [],
   "source": [
    "command = \"\"\"/home/gridsan/shibal/.conda/envs/aoas/bin/python /home/gridsan/shibal/elaan/src/elaani/elaani_census.py --load_directory '/home/gridsan/shibal/elaan/Census-Data' --seed 0 --relative_penalty 1.0 --grid_search 'reduced' --run_first_round --version 1 --eval_criteria 'mse' --logging\"\"\"\n"
   ]
  },
  {
   "cell_type": "code",
   "execution_count": null,
   "id": "6dd00074",
   "metadata": {},
   "outputs": [
    {
     "name": "stdout",
     "output_type": "stream",
     "text": [
      "3.6.15 | packaged by conda-forge | (default, Dec  3 2021, 18:49:41) \n",
      "[GCC 9.4.0] linux /home/gridsan/shibal/.conda/envs/aoas/bin/python\n",
      "Number of training samples: 7201\n",
      "Number of validation samples: 57596\n",
      "Number of test samples: 7199\n",
      "Number of covariates: 295\n",
      "HBox(children=(HTML(value=''), FloatProgress(value=0.0, max=96.0), HTML(value='')))\n",
      "\n",
      "Number of interaction effects to consider: 10000\n",
      "Generating bspline basis for main effects...\n",
      "HBox(children=(HTML(value='$B_{train}$'), FloatProgress(value=0.0, max=295.0), HTML(value='')))\n",
      "\n",
      "Bspline basis for main effects generated.\n",
      "Generating bspline basis for interaction effects...\n",
      "HBox(children=(HTML(value='$B_{train-interaction}$'), FloatProgress(value=0.0, max=10000.0), HTML(value='')))\n",
      "\n",
      "Bspline basis for interaction effects generated\n",
      "Smoothness,        L0      ,  train   ,    val     ,    obj     ,  nnz(M), nnz(I)\n",
      "0.00100000,   10.00000000,   89.999045,   86.434390,   65.109099,      2,      0\n",
      "0.00100000,   8.90215085,   89.998579,   86.433713,   62.913384,      2,      0\n",
      "0.00100000,   7.92482898,   89.998528,   86.433637,   60.958740,      2,      0\n",
      "0.00100000,   7.05480231,   70.317555,   67.199746,   56.503310,      2,      1\n"
     ]
    }
   ],
   "source": [
    "!{command}"
   ]
  },
  {
   "cell_type": "code",
   "execution_count": 12,
   "id": "f79abb26",
   "metadata": {},
   "outputs": [],
   "source": [
    "command = \"\"\"/home/gridsan/shibal/.conda/envs/aoas/bin/python /home/gridsan/shibal/elaan/src/elaanh/elaanh_synthetic.py  --dataset 'synthetic' --dist 'normal' --correlation 0.5 --seed 1 --train_size 100 --version 1 --r 1.0 --Ki 10 --Kij 5\"\"\"\n"
   ]
  },
  {
   "cell_type": "code",
   "execution_count": 13,
   "id": "a5795803",
   "metadata": {},
   "outputs": [
    {
     "name": "stdout",
     "output_type": "stream",
     "text": [
      "3.6.15 | packaged by conda-forge | (default, Dec  3 2021, 18:49:41) \n",
      "[GCC 9.4.0] linux /home/gridsan/shibal/.conda/envs/aoas/bin/python\n",
      "Traceback (most recent call last):\n",
      "  File \"/home/gridsan/shibal/elaan/src/elaanh/elaanh_synthetic.py\", line 22, in <module>\n",
      "    from src.elaanh import models\n",
      "  File \"/home/gridsan/shibal/elaan/src/elaanh/models.py\", line 28, in <module>\n",
      "    from src.elaanh import HierarchicalSparsity\n",
      "  File \"/home/gridsan/shibal/elaan/src/elaanh/HierarchicalSparsity.py\", line 2, in <module>\n",
      "    import gurobipy as gp\n",
      "ModuleNotFoundError: No module named 'gurobipy'\n"
     ]
    }
   ],
   "source": [
    "!{command}"
   ]
  },
  {
   "cell_type": "code",
   "execution_count": null,
   "id": "260b7748",
   "metadata": {},
   "outputs": [],
   "source": []
  }
 ],
 "metadata": {
  "kernelspec": {
   "display_name": "Python [conda env:.conda-aoas]",
   "language": "python",
   "name": "conda-env-.conda-aoas-py"
  },
  "language_info": {
   "codemirror_mode": {
    "name": "ipython",
    "version": 3
   },
   "file_extension": ".py",
   "mimetype": "text/x-python",
   "name": "python",
   "nbconvert_exporter": "python",
   "pygments_lexer": "ipython3",
   "version": "3.6.15"
  },
  "toc": {
   "base_numbering": 1,
   "nav_menu": {},
   "number_sections": true,
   "sideBar": true,
   "skip_h1_title": false,
   "title_cell": "Table of Contents",
   "title_sidebar": "Contents",
   "toc_cell": false,
   "toc_position": {},
   "toc_section_display": true,
   "toc_window_display": false
  }
 },
 "nbformat": 4,
 "nbformat_minor": 5
}

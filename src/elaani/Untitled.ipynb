{
 "cells": [
  {
   "cell_type": "code",
   "execution_count": 14,
   "id": "e622be40",
   "metadata": {},
   "outputs": [],
   "source": [
    "command = \"\"\"/home/gridsan/shibal/.conda/envs/aoas/bin/python /home/gridsan/shibal/elaan/src/elaani/elaani_census.py --load_directory '/home/gridsan/shibal/elaan/Census-Data' --seed 0 --relative_penalty 1.0 --grid_search 'reduced' --run_first_round --version 1 --eval_criteria 'mse' --logging\"\"\"\n"
   ]
  },
  {
   "cell_type": "code",
   "execution_count": 15,
   "id": "5321f41e",
   "metadata": {},
   "outputs": [
    {
     "name": "stdout",
     "output_type": "stream",
     "text": [
      "3.6.15 | packaged by conda-forge | (default, Dec  3 2021, 18:49:41) \n",
      "[GCC 9.4.0] linux /home/gridsan/shibal/.conda/envs/aoas/bin/python\n",
      "Number of training samples: 7201\n",
      "Number of validation samples: 57596\n",
      "Number of test samples: 7199\n",
      "Number of covariates: 295\n",
      "HBox(children=(HTML(value=''), FloatProgress(value=0.0, max=96.0), HTML(value='')))\n",
      "\n",
      "Number of interaction effects to consider: 10000\n",
      "Generating bspline basis for main effects...\n",
      "HBox(children=(HTML(value='$B_{train}$'), FloatProgress(value=0.0, max=295.0), HTML(value='')))\n",
      "\n",
      "Bspline basis for main effects generated.\n",
      "Generating bspline basis for interaction effects...\n",
      "HBox(children=(HTML(value='$B_{train-interaction}$'), FloatProgress(value=0.0, max=10000.0), HTML(value='')))\n",
      "\n",
      "Bspline basis for interaction effects generated\n",
      "Smoothness,        L0      ,  train   ,    val     ,    obj     ,  nnz(M), nnz(I)\n",
      "0.00100000,   10.00000000,   89.999045,   86.434390,   65.109099,      2,      0\n",
      "0.00100000,   8.90215085,   89.998579,   86.433713,   62.913384,      2,      0\n",
      "0.00100000,   7.92482898,   89.998528,   86.433637,   60.958740,      2,      0\n",
      "0.00100000,   7.05480231,   70.317555,   67.199746,   56.503310,      2,      1\n",
      "0.00100000,   6.28029144,   70.316652,   67.197164,   54.179477,      2,      1\n",
      "^C\n",
      "Traceback (most recent call last):\n",
      "  File \"/home/gridsan/shibal/elaan/src/elaani/elaani_census.py\", line 172, in <module>\n",
      "    am.fit_validation_path(Xval, Yval)\n",
      "  File \"/home/gridsan/shibal/elaan/src/elaani/models.py\", line 182, in fit_validation_path\n",
      "    self.optimal_solution, self.sparse_solution, self.union_set = self.VP(L0path=self.L0path, CD_J=self.CD_J, CD_J_AS=self.CD_J_AS)\n",
      "  File \"/home/gridsan/shibal/elaan/src/elaani/models.py\", line 178, in <lambda>\n",
      "    B=self.Btrain, B_interaction=self.Btrain_interaction, interaction_terms=self.interaction_terms, column_names=self.column_names, lams_1=self.lams_sm, lams_2=self.lams_L0, path=self.path, logging=self.logging)\n",
      "  File \"/home/gridsan/shibal/elaan/src/elaani/ValidationPath.py\", line 80, in ValidationPath\n",
      "    alpha = deepcopy(alpha))\n",
      "  File \"/home/gridsan/shibal/elaan/src/elaani/models.py\", line 173, in <lambda>\n",
      "    B=self.Btrain, BT_B=self.BtrainT_Btrain, B_interaction=self.Btrain_interaction, B_interactionT_B_interaction=self.Btrain_interactionT_Btrain_interaction, K_main=self.K_main, K_interaction=self.K_interaction, Xval=self.Xval, Xmin=self.Xmin, Xmax=self.Xmax, Y=self.Y, Yval=self.Yval, y_scaler=self.y_scaler, S=self.S, S_interaction=self.S_interaction, interaction_terms=self.interaction_terms, eval_criteria=self.eval_criteria, path=self.path, r=self.alpha, logging=self.logging, terminate_val_L0path=self.terminate_val_L0path)\n",
      "  File \"/home/gridsan/shibal/elaan/src/elaani/L0Path.py\", line 157, in L0Path\n",
      "    Ypred, beta[j], zeta[j], delta[j], alpha[j], active_set[j], active_interaction_set[j], MaxSuppSize_flag = CD_J(CD_J_AS=CD_J_AS, Ypred=Ypred, beta=[deepcopy(beta_current), deepcopy(delta_current)], zeta=[deepcopy(zeta_current), deepcopy(alpha_current)], lam=[lam_1, lam_2], active_set=[deepcopy(active_set_current), deepcopy(active_interaction_set_current)], P=P, P_interaction=P_interaction)\n",
      "  File \"/home/gridsan/shibal/elaan/src/elaani/models.py\", line 168, in <lambda>\n",
      "    Y=self.Y, B=self.Btrain, B_interaction=self.Btrain_interaction, S=self.S, S_interaction=self.S_interaction, I=[self.p, len(self.interaction_terms)], interaction_terms=self.interaction_terms, r=self.alpha, max_iter=100, tol=self.convergence_tolerance, full_set=[np.arange(self.p), np.arange(len(self.interaction_terms))], MaxSuppSize_main=self.p, MaxSuppSize_interaction=self.max_interaction_support, path=self.path)\n",
      "  File \"/home/gridsan/shibal/elaan/src/elaani/optimizer.py\", line 248, in CD_Joint\n",
      "    delta_p = [(P.solve((B.transpose()).dot(res))).reshape(-1,1) for B, P in zip(Bspam_interaction, Pspam_interaction)]\n",
      "  File \"/home/gridsan/shibal/elaan/src/elaani/optimizer.py\", line 248, in <listcomp>\n",
      "    delta_p = [(P.solve((B.transpose()).dot(res))).reshape(-1,1) for B, P in zip(Bspam_interaction, Pspam_interaction)]\n",
      "  File \"/home/gridsan/shibal/.conda/envs/aoas/lib/python3.6/site-packages/scipy/sparse/csr.py\", line 145, in transpose\n",
      "    self.indptr), shape=(N, M), copy=copy)\n",
      "  File \"/home/gridsan/shibal/.conda/envs/aoas/lib/python3.6/site-packages/scipy/sparse/compressed.py\", line 105, in __init__\n",
      "    self.check_format(full_check=False)\n",
      "  File \"/home/gridsan/shibal/.conda/envs/aoas/lib/python3.6/site-packages/scipy/sparse/compressed.py\", line 159, in check_format\n",
      "    self.data = to_native(self.data)\n",
      "  File \"/home/gridsan/shibal/.conda/envs/aoas/lib/python3.6/site-packages/scipy/sparse/sputils.py\", line 92, in to_native\n"
     ]
    }
   ],
   "source": [
    "!{command}"
   ]
  },
  {
   "cell_type": "code",
   "execution_count": 12,
   "id": "70c02121",
   "metadata": {},
   "outputs": [],
   "source": [
    "command = \"\"\"/home/gridsan/shibal/.conda/envs/aoas/bin/python /home/gridsan/shibal/elaan/src/elaanh/elaanh_synthetic.py  --dataset 'synthetic' --dist 'normal' --correlation 0.5 --seed 1 --train_size 100 --version 1 --r 1.0 --Ki 10 --Kij 5\"\"\"\n"
   ]
  },
  {
   "cell_type": "code",
   "execution_count": 13,
   "id": "c3393982",
   "metadata": {},
   "outputs": [
    {
     "name": "stdout",
     "output_type": "stream",
     "text": [
      "3.6.15 | packaged by conda-forge | (default, Dec  3 2021, 18:49:41) \n",
      "[GCC 9.4.0] linux /home/gridsan/shibal/.conda/envs/aoas/bin/python\n",
      "Traceback (most recent call last):\n",
      "  File \"/home/gridsan/shibal/elaan/src/elaanh/elaanh_synthetic.py\", line 22, in <module>\n",
      "    from src.elaanh import models\n",
      "  File \"/home/gridsan/shibal/elaan/src/elaanh/models.py\", line 28, in <module>\n",
      "    from src.elaanh import HierarchicalSparsity\n",
      "  File \"/home/gridsan/shibal/elaan/src/elaanh/HierarchicalSparsity.py\", line 2, in <module>\n",
      "    import gurobipy as gp\n",
      "ModuleNotFoundError: No module named 'gurobipy'\n"
     ]
    }
   ],
   "source": [
    "!{command}"
   ]
  },
  {
   "cell_type": "code",
   "execution_count": 1,
   "id": "d5a7d73d",
   "metadata": {},
   "outputs": [],
   "source": [
    "command = \"\"\"/home/gridsan/shibal/.conda/envs/aoas/bin/python /home/gridsan/shibal/elaan/src/elaan/elaan_census.py --load_directory '/home/gridsan/shibal/elaan/Census-Data' --seed 0 --version 1 --eval_criteria 'mse' --logging\"\"\"\n"
   ]
  },
  {
   "cell_type": "code",
   "execution_count": 2,
   "id": "96926515",
   "metadata": {},
   "outputs": [
    {
     "name": "stdout",
     "output_type": "stream",
     "text": [
      "3.6.15 | packaged by conda-forge | (default, Dec  3 2021, 18:49:41) \n",
      "[GCC 9.4.0] linux /home/gridsan/shibal/.conda/envs/aoas/bin/python\n",
      "Traceback (most recent call last):\n",
      "  File \"/home/gridsan/shibal/elaan/src/elaan/elaan_census.py\", line 27, in <module>\n",
      "    from src.elaan import models\n",
      "  File \"/home/gridsan/shibal/elaan/src/elaan/models.py\", line 24, in <module>\n",
      "    from src.elaan import utilities\n",
      "ImportError: cannot import name 'utilities'\n"
     ]
    }
   ],
   "source": [
    "!{command}"
   ]
  },
  {
   "cell_type": "code",
   "execution_count": null,
   "id": "46963941",
   "metadata": {},
   "outputs": [],
   "source": []
  }
 ],
 "metadata": {
  "kernelspec": {
   "display_name": "Python [conda env:.conda-aoas]",
   "language": "python",
   "name": "conda-env-.conda-aoas-py"
  },
  "language_info": {
   "codemirror_mode": {
    "name": "ipython",
    "version": 3
   },
   "file_extension": ".py",
   "mimetype": "text/x-python",
   "name": "python",
   "nbconvert_exporter": "python",
   "pygments_lexer": "ipython3",
   "version": "3.6.15"
  },
  "toc": {
   "base_numbering": 1,
   "nav_menu": {},
   "number_sections": true,
   "sideBar": true,
   "skip_h1_title": false,
   "title_cell": "Table of Contents",
   "title_sidebar": "Contents",
   "toc_cell": false,
   "toc_position": {},
   "toc_section_display": true,
   "toc_window_display": false
  }
 },
 "nbformat": 4,
 "nbformat_minor": 5
}
